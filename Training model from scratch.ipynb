{
 "cells": [
  {
   "cell_type": "code",
   "execution_count": 1,
   "id": "c08f4cd0",
   "metadata": {},
   "outputs": [],
   "source": [
    "# importing numpy\n",
    "import numpy as np"
   ]
  },
  {
   "cell_type": "code",
   "execution_count": 2,
   "id": "04ce0ca0",
   "metadata": {},
   "outputs": [],
   "source": [
    "# f = w * x\n",
    "\n",
    "x = np.array([1,2,3,4,5],dtype=np.float32)\n",
    "y = np.array([2,4,6,8,10],dtype=np.float32)\n",
    "\n",
    "w = 0.0"
   ]
  },
  {
   "cell_type": "code",
   "execution_count": 3,
   "id": "77798dae",
   "metadata": {},
   "outputs": [],
   "source": [
    "# forward\n",
    "def forward(x):\n",
    "    return x*w\n",
    "\n",
    "# loss function\n",
    "def loss(y,y_pred):\n",
    "    return (y_pred-y**2).mean()\n",
    "\n",
    "# gradient\n",
    "def gradient(x,y,y_pred):\n",
    "    return np.dot(2*x,y_pred-y).mean()"
   ]
  },
  {
   "cell_type": "code",
   "execution_count": 4,
   "id": "99f21a42",
   "metadata": {},
   "outputs": [
    {
     "name": "stdout",
     "output_type": "stream",
     "text": [
      "predicted output before training: 0.0\n"
     ]
    }
   ],
   "source": [
    "print(f'predicted output before training: {forward(5)}')"
   ]
  },
  {
   "cell_type": "code",
   "execution_count": 5,
   "id": "ac6dcc0c",
   "metadata": {},
   "outputs": [
    {
     "name": "stdout",
     "output_type": "stream",
     "text": [
      "epoch1: w = 2.200, loss-44.00000000\n",
      "epoch2: w = 1.980, loss-37.40000153\n",
      "epoch3: w = 2.002, loss-38.05999756\n",
      "epoch4: w = 2.000, loss-37.99399948\n",
      "epoch5: w = 2.000, loss-38.00059891\n",
      "epoch6: w = 2.000, loss-37.99993896\n",
      "epoch7: w = 2.000, loss-38.00000763\n",
      "epoch8: w = 2.000, loss-38.00000000\n",
      "epoch9: w = 2.000, loss-38.00000000\n",
      "epoch10: w = 2.000, loss-38.00000000\n"
     ]
    }
   ],
   "source": [
    "# Training\n",
    "learning_rate = 0.01\n",
    "\n",
    "epochs = 10\n",
    "\n",
    "for epoch in range(epochs):\n",
    "    # predicting\n",
    "    y_pred = forward(x)\n",
    "    \n",
    "    # finding loss\n",
    "    l = loss(y,y_pred)\n",
    "    \n",
    "    # gradient\n",
    "    dw = gradient(x,y,y_pred)\n",
    "    \n",
    "    # update the weights\n",
    "    w -=learning_rate * dw\n",
    "    \n",
    "    if epoch % 1 ==0:\n",
    "        print(f'epoch{epoch+1}: w = {w:.3f}, loss{l:.8f}')"
   ]
  },
  {
   "cell_type": "code",
   "execution_count": 8,
   "id": "e703ef0c",
   "metadata": {},
   "outputs": [
    {
     "name": "stdout",
     "output_type": "stream",
     "text": [
      "predicted output after training: 10.000\n"
     ]
    }
   ],
   "source": [
    "print(f'predicted output after training: {forward(5):.3f}')"
   ]
  }
 ],
 "metadata": {
  "kernelspec": {
   "display_name": "Python 3 (ipykernel)",
   "language": "python",
   "name": "python3"
  },
  "language_info": {
   "codemirror_mode": {
    "name": "ipython",
    "version": 3
   },
   "file_extension": ".py",
   "mimetype": "text/x-python",
   "name": "python",
   "nbconvert_exporter": "python",
   "pygments_lexer": "ipython3",
   "version": "3.9.13"
  }
 },
 "nbformat": 4,
 "nbformat_minor": 5
}
